{
  "nbformat": 4,
  "nbformat_minor": 0,
  "metadata": {
    "colab": {
      "provenance": []
    },
    "kernelspec": {
      "name": "python3",
      "display_name": "Python 3"
    },
    "language_info": {
      "name": "python"
    }
  },
  "cells": [
    {
      "cell_type": "code",
      "execution_count": 1,
      "metadata": {
        "id": "WKLsCrqlUG_A"
      },
      "outputs": [],
      "source": [
        "!apt-get install openjdk-8-jdk-headless -qq > /dev/null\n",
        "!wget -q http://archive.apache.org/dist/spark/spark-3.1.1/spark-3.1.1-bin-hadoop3.2.tgz\n",
        "!tar xf spark-3.1.1-bin-hadoop3.2.tgz\n",
        "!pip install -q findspark"
      ]
    },
    {
      "cell_type": "code",
      "source": [
        "import os\n",
        "os.environ[\"JAVA_HOME\"] = \"/usr/lib/jvm/java-8-openjdk-amd64\"\n",
        "os.environ[\"SPARK_HOME\"] = \"/content/spark-3.1.1-bin-hadoop3.2\""
      ],
      "metadata": {
        "id": "tnZPFCoeUOph"
      },
      "execution_count": 2,
      "outputs": []
    },
    {
      "cell_type": "code",
      "source": [
        "import findspark\n",
        "findspark.init()\n",
        "from pyspark.sql import SparkSession\n",
        "from pyspark.ml import Pipeline\n",
        "from pyspark.ml.feature import MinMaxScaler, VectorAssembler\n",
        "import numpy as np\n",
        "import pyspark.sql.functions as F\n",
        "from pyspark.sql.types import ArrayType, DoubleType\n",
        "from pyspark.mllib.evaluation import RegressionMetrics\n",
        "import sys\n",
        "import matplotlib.pyplot as plt\n",
        "from tensorflow.keras.models import Sequential\n",
        "from tensorflow.keras.layers import LSTM, Dense\n",
        "from pyspark.sql.functions import when\n",
        "from pyspark.sql.functions import col\n",
        "\n",
        "spark = SparkSession.builder.appName(\"Jena_Climate\").getOrCreate()"
      ],
      "metadata": {
        "id": "XVHNyfywUQ3F"
      },
      "execution_count": 7,
      "outputs": []
    },
    {
      "cell_type": "code",
      "source": [
        "#load data\n",
        "def load_data():\n",
        "    df=spark.read.option(\"header\", \"true\").csv(\"jena_climate_2009_2016.csv\")\n",
        "    return df\n",
        "\n",
        "#Use MinMaxScaler to get data between 0 and 1\n",
        "def preprocess_data(df):\n",
        "    #consider temperature as feature to predict weather\n",
        "    df_ftrs=df.select(['T (degC)'])\n",
        "    #normalize data\n",
        "    vector_asblr = VectorAssembler(inputCols=df_ftrs.columns, outputCol=\"x\")\n",
        "    norm_scalar = MinMaxScaler(inputCol=\"x\", outputCol=\"y\")\n",
        "    pipe_line = Pipeline(stages=[vector_asblr, norm_scalar])\n",
        "    scale_model = pipe_line.fit(df_ftrs)\n",
        "    scale_features = scale_model.transform(df_ftrs)\n",
        "\n",
        "    #separate feature columns\n",
        "    scale_features = scale_features.select(create_lst_from_arr(F.col(\"y\")).alias(\"split_ftrs\")).select([F.col(\"split_ftrs\")[f].alias(\"T_Scaled\") for f in range(len(df_ftrs.columns))])\n",
        "\n",
        "    return scale_features\n",
        "\n",
        "# split array\n",
        "def create_lst_from_arr(colum):\n",
        "    def create_lst(vec):\n",
        "        return vec.toArray().tolist()\n",
        "    return F.udf(create_lst, ArrayType(DoubleType()))(colum)\n",
        "\n",
        "#Prepare data based on time sequence\n",
        "def LSTM_data(data, time_sequence = 1):\n",
        "    return_X, return_Y = [], []\n",
        "    z=0\n",
        "    while z <len(data)-time_sequence-1:\n",
        "        return_X.append(data[z:(z+time_sequence)])\n",
        "        return_Y.append(data[z + time_sequence])\n",
        "        z+=1\n",
        "    return np.array(return_X), np.array(return_Y)\n",
        "\n",
        "\n",
        "#Split data - 65% train data, 20% validation data, 15% test data\n",
        "def train_test_split(attributes, time_sequence):\n",
        "    attributes = attributes.toPandas()\n",
        "    attributes['attributes'] = attributes.values.tolist()\n",
        "    attributes = attributes['attributes'].tolist()\n",
        "    total_smps = len(attributes)\n",
        "    trn_smp_sz=int(total_smps*0.65)\n",
        "    val_smp_sz=int(total_smps*0.85)\n",
        "\n",
        "    trn_dt, val_dt, tst_dt =attributes[0:trn_smp_sz],attributes[trn_smp_sz:val_smp_sz],attributes[val_smp_sz:total_smps]\n",
        "\n",
        "    trnx, trny = LSTM_data(trn_dt, time_sequence)\n",
        "    valx, valy = LSTM_data(val_dt, time_sequence)\n",
        "    tstx, tsty = LSTM_data(tst_dt, time_sequence)\n",
        "\n",
        "    return trnx, trny, valx, valy, tstx, tsty"
      ],
      "metadata": {
        "id": "DC2InOabUt-B"
      },
      "execution_count": 8,
      "outputs": []
    },
    {
      "cell_type": "code",
      "source": [
        "def train_model(trainx, trainy):\n",
        "    lstm_md=Sequential()\n",
        "    lstm_md.add(LSTM(25,return_sequences=True,input_shape=(trainx.shape[1],trainx.shape[2])))\n",
        "    lstm_md.add(LSTM(25,return_sequences=True))\n",
        "    lstm_md.add(LSTM(25,return_sequences=True))\n",
        "    lstm_md.add(LSTM(25))\n",
        "    lstm_md.add(Dense(1))\n",
        "    lstm_md.compile(loss='mean_squared_error',optimizer='adam')\n",
        "\n",
        "    return lstm_md"
      ],
      "metadata": {
        "id": "20j4EnXVVwj9"
      },
      "execution_count": 9,
      "outputs": []
    },
    {
      "cell_type": "code",
      "source": [
        "\n",
        "if __name__ == \"__main__\":\n",
        "\n",
        "    #load and preprocess data\n",
        "    data = load_data()\n",
        "\n",
        "    print(\"-----Weather Data-----\")\n",
        "    data.show()\n",
        "    print(\"-----Weather Data Schema-----\")\n",
        "    data.printSchema()\n",
        "\n",
        "    data = data.withColumn(\"p (mbar)\", when(col(\"p (mbar)\") == \"\", None).otherwise(col(\"p (mbar)\").cast(\"double\")))\n",
        "    data = data.withColumn(\"T (degC)\", when(col(\"T (degC)\") == \"\", None).otherwise(col(\"T (degC)\").cast(\"double\")))\n",
        "    data = data.withColumn(\"VPmax (mbar)\", when(col(\"VPmax (mbar)\") == \"\", None).otherwise(col(\"VPmax (mbar)\").cast(\"double\")))\n",
        "    data = data.withColumn(\"VPdef (mbar)\", when(col(\"VPdef (mbar)\") == \"\", None).otherwise(col(\"VPdef (mbar)\").cast(\"double\")))\n",
        "    data = data.withColumn(\"sh (g/kg)\", when(col(\"sh (g/kg)\") == \"\", None).otherwise(col(\"sh (g/kg)\").cast(\"double\")))\n",
        "    data = data.withColumn(\"rho (g/m**3)\", when(col(\"rho (g/m**3)\") == \"\", None).otherwise(col(\"rho (g/m**3)\").cast(\"double\")))\n",
        "    data = data.withColumn(\"wv (m/s)\", when(col(\"wv (m/s)\") == \"\", None).otherwise(col(\"wv (m/s)\").cast(\"double\")))\n",
        "\n",
        "    # Check the schema again and proceed with further analysis\n",
        "    print(\"-----Processed Weather Data Schema-----\")\n",
        "    data.printSchema()\n",
        "    preprcs_dt = preprocess_data(data)\n",
        "\n",
        "    print(\"----Processed Data-----\")\n",
        "    preprcs_dt.show()\n",
        "\n",
        "    #hyper-parameters\n",
        "    epochs = [25,50]\n",
        "    time_sequence = [1,5,10]\n",
        "    batch_size = [100]\n",
        "\n",
        "\n",
        "    for steps in time_sequence:\n",
        "        for iter in epochs:\n",
        "            for b in batch_size:\n",
        "                print(\"----***----Training LSTM with time sequence : {}, # of iterations: {}, batch size : {}\".format(steps,iter,b))\n",
        "\n",
        "                #split data into train, val and test\n",
        "                trnx, trny, valx, valy, tstx, tsty = train_test_split(preprcs_dt, steps)\n",
        "\n",
        "                #train multi layer lstm model\n",
        "                model = train_model(trnx, trny)\n",
        "                model.fit(trnx,trny,validation_data=(valx,valy),epochs=iter,batch_size=b,verbose=1)\n",
        "                train_pred = model.predict(trnx)\n",
        "\n",
        "                #test multi layer lstm model\n",
        "                test_pred = model.predict(tstx)\n",
        "\n",
        "                #To evaluate, convert into proper format\n",
        "                pred_train = train_pred.flatten().tolist()\n",
        "                pred_test = test_pred.flatten().tolist()\n",
        "\n",
        "                actual_train = trny.flatten().tolist()\n",
        "                actual_test = tsty.flatten().tolist()\n",
        "\n",
        "                train = spark.createDataFrame(zip(actual_train, pred_train), ['actual_output', 'predicted_output'])\n",
        "                test = spark.createDataFrame(zip(actual_test, pred_test), ['actual_output', 'predicted_output'])\n",
        "\n",
        "                train_values = train.rdd.map(tuple)\n",
        "                test_values = test.rdd.map(tuple)\n",
        "\n",
        "\n",
        "                #Performance evaluation of the model\n",
        "                print(\"\\n\\n----Training Evaluation----\")\n",
        "                performance = RegressionMetrics(train_values)\n",
        "\n",
        "                print(\"MSE: {}\".format(performance.meanSquaredError))\n",
        "                print(\"RMSE: {}\".format(performance.rootMeanSquaredError))\n",
        "                print(\"MAE: {}\".format(performance.meanAbsoluteError))\n",
        "\n",
        "\n",
        "                print(\"\\n\\n----Testing Evaluation----\")\n",
        "                performance = RegressionMetrics(test_values)\n",
        "\n",
        "                print(\"MSE: {}\".format(performance.meanSquaredError))\n",
        "                print(\"RMSE: {}\".format(performance.rootMeanSquaredError))\n",
        "                print(\"MAE: {}\\n\\n\".format(performance.meanAbsoluteError))\n",
        "\n"
      ],
      "metadata": {
        "colab": {
          "base_uri": "https://localhost:8080/"
        },
        "id": "sPrXfcfAVyJa",
        "outputId": "54f072d9-5dad-48f0-ae8f-da9bdb6392ba"
      },
      "execution_count": null,
      "outputs": [
        {
          "output_type": "stream",
          "name": "stdout",
          "text": [
            "-----Weather Data-----\n",
            "+-------------------+--------+--------+--------+-----------+------+------------+------------+------------+---------+---------------+------------+--------+-------------+--------+\n",
            "|          Date Time|p (mbar)|T (degC)|Tpot (K)|Tdew (degC)|rh (%)|VPmax (mbar)|VPact (mbar)|VPdef (mbar)|sh (g/kg)|H2OC (mmol/mol)|rho (g/m**3)|wv (m/s)|max. wv (m/s)|wd (deg)|\n",
            "+-------------------+--------+--------+--------+-----------+------+------------+------------+------------+---------+---------------+------------+--------+-------------+--------+\n",
            "|01.01.2009 00:10:00|  996.52|   -8.02|  265.40|      -8.90| 93.30|        3.33|        3.11|        0.22|     1.94|           3.12|     1307.75|    1.03|         1.75|  152.30|\n",
            "|01.01.2009 00:20:00|  996.57|   -8.41|  265.01|      -9.28| 93.40|        3.23|        3.02|        0.21|     1.89|           3.03|     1309.80|    0.72|         1.50|  136.10|\n",
            "|01.01.2009 00:30:00|  996.53|   -8.51|  264.91|      -9.31| 93.90|        3.21|        3.01|        0.20|     1.88|           3.02|     1310.24|    0.19|         0.63|  171.60|\n",
            "|01.01.2009 00:40:00|  996.51|   -8.31|  265.12|      -9.07| 94.20|        3.26|        3.07|        0.19|     1.92|           3.08|     1309.19|    0.34|         0.50|  198.00|\n",
            "|01.01.2009 00:50:00|  996.51|   -8.27|  265.15|      -9.04| 94.10|        3.27|        3.08|        0.19|     1.92|           3.09|     1309.00|    0.32|         0.63|  214.30|\n",
            "|01.01.2009 01:00:00|  996.50|   -8.05|  265.38|      -8.78| 94.40|        3.33|        3.14|        0.19|     1.96|           3.15|     1307.86|    0.21|         0.63|  192.70|\n",
            "|01.01.2009 01:10:00|  996.50|   -7.62|  265.81|      -8.30| 94.80|        3.44|        3.26|        0.18|     2.04|           3.27|     1305.68|    0.18|         0.63|  166.50|\n",
            "|01.01.2009 01:20:00|  996.50|   -7.62|  265.81|      -8.36| 94.40|        3.44|        3.25|        0.19|     2.03|           3.26|     1305.69|    0.19|         0.50|  118.60|\n",
            "|01.01.2009 01:30:00|  996.50|   -7.91|  265.52|      -8.73| 93.80|        3.36|        3.15|        0.21|     1.97|           3.16|     1307.17|    0.28|         0.75|  188.50|\n",
            "|01.01.2009 01:40:00|  996.53|   -8.43|  264.99|      -9.34| 93.10|        3.23|        3.00|        0.22|     1.88|           3.02|     1309.85|    0.59|         0.88|  185.00|\n",
            "|01.01.2009 01:50:00|  996.62|   -8.76|  264.66|      -9.66| 93.10|        3.14|        2.93|        0.22|     1.83|           2.94|     1311.64|    0.45|         0.88|  183.20|\n",
            "|01.01.2009 02:00:00|  996.62|   -8.88|  264.54|      -9.77| 93.20|        3.12|        2.90|        0.21|     1.81|           2.91|     1312.25|    0.25|         0.63|  190.30|\n",
            "|01.01.2009 02:10:00|  996.63|   -8.85|  264.57|      -9.70| 93.50|        3.12|        2.92|        0.20|     1.82|           2.93|     1312.11|    0.16|         0.50|  158.30|\n",
            "|01.01.2009 02:20:00|  996.74|   -8.83|  264.58|      -9.68| 93.50|        3.13|        2.92|        0.20|     1.83|           2.93|     1312.15|    0.36|         0.63|  184.80|\n",
            "|01.01.2009 02:30:00|  996.81|   -8.66|  264.74|      -9.46| 93.90|        3.17|        2.98|        0.19|     1.86|           2.99|     1311.37|    0.33|         0.75|  155.90|\n",
            "|01.01.2009 02:40:00|  996.81|   -8.66|  264.74|      -9.50| 93.60|        3.17|        2.97|        0.20|     1.85|           2.98|     1311.38|    0.07|         0.50|  272.40|\n",
            "|01.01.2009 02:50:00|  996.86|   -8.70|  264.70|      -9.55| 93.50|        3.16|        2.95|        0.21|     1.85|           2.96|     1311.64|    0.32|         0.63|  219.20|\n",
            "|01.01.2009 03:00:00|  996.84|   -8.81|  264.59|      -9.66| 93.50|        3.13|        2.93|        0.20|     1.83|           2.94|     1312.18|    0.18|         0.63|  167.20|\n",
            "|01.01.2009 03:10:00|  996.87|   -8.84|  264.56|      -9.69| 93.50|        3.13|        2.92|        0.20|     1.83|           2.93|     1312.37|    0.07|         0.25|  129.30|\n",
            "|01.01.2009 03:20:00|  996.97|   -8.94|  264.45|      -9.82| 93.30|        3.10|        2.89|        0.21|     1.81|           2.90|     1313.01|    0.10|         0.63|  115.30|\n",
            "+-------------------+--------+--------+--------+-----------+------+------------+------------+------------+---------+---------------+------------+--------+-------------+--------+\n",
            "only showing top 20 rows\n",
            "\n",
            "-----Weather Data Schema-----\n",
            "root\n",
            " |-- Date Time: string (nullable = true)\n",
            " |-- p (mbar): string (nullable = true)\n",
            " |-- T (degC): string (nullable = true)\n",
            " |-- Tpot (K): string (nullable = true)\n",
            " |-- Tdew (degC): string (nullable = true)\n",
            " |-- rh (%): string (nullable = true)\n",
            " |-- VPmax (mbar): string (nullable = true)\n",
            " |-- VPact (mbar): string (nullable = true)\n",
            " |-- VPdef (mbar): string (nullable = true)\n",
            " |-- sh (g/kg): string (nullable = true)\n",
            " |-- H2OC (mmol/mol): string (nullable = true)\n",
            " |-- rho (g/m**3): string (nullable = true)\n",
            " |-- wv (m/s): string (nullable = true)\n",
            " |-- max. wv (m/s): string (nullable = true)\n",
            " |-- wd (deg): string (nullable = true)\n",
            "\n",
            "-----Processed Weather Data Schema-----\n",
            "root\n",
            " |-- Date Time: string (nullable = true)\n",
            " |-- p (mbar): double (nullable = true)\n",
            " |-- T (degC): double (nullable = true)\n",
            " |-- Tpot (K): string (nullable = true)\n",
            " |-- Tdew (degC): string (nullable = true)\n",
            " |-- rh (%): string (nullable = true)\n",
            " |-- VPmax (mbar): double (nullable = true)\n",
            " |-- VPact (mbar): string (nullable = true)\n",
            " |-- VPdef (mbar): double (nullable = true)\n",
            " |-- sh (g/kg): double (nullable = true)\n",
            " |-- H2OC (mmol/mol): string (nullable = true)\n",
            " |-- rho (g/m**3): double (nullable = true)\n",
            " |-- wv (m/s): double (nullable = true)\n",
            " |-- max. wv (m/s): string (nullable = true)\n",
            " |-- wd (deg): string (nullable = true)\n",
            "\n",
            "----Processed Data-----\n",
            "+-------------------+\n",
            "|           T_Scaled|\n",
            "+-------------------+\n",
            "| 0.2486316138663128|\n",
            "|0.24216287941615522|\n",
            "|0.24050422955714046|\n",
            "|0.24382152927516998|\n",
            "| 0.2444849892187759|\n",
            "|0.24813401890860837|\n",
            "| 0.2552662133023718|\n",
            "| 0.2552662133023718|\n",
            "|  0.250456128711229|\n",
            "|0.24183114944435227|\n",
            "|0.23635760490960356|\n",
            "|0.23436722507878582|\n",
            "|0.23486482003649028|\n",
            "|0.23519655000829323|\n",
            "|0.23801625476861832|\n",
            "|0.23801625476861832|\n",
            "|0.23735279482501243|\n",
            "|0.23552827998009618|\n",
            "|0.23503068502239174|\n",
            "|0.23337203516337698|\n",
            "+-------------------+\n",
            "only showing top 20 rows\n",
            "\n",
            "----***----Training LSTM with time sequence : 1, # of iterations: 25, batch size : 100\n",
            "Epoch 1/25\n",
            "2734/2734 [==============================] - 34s 9ms/step - loss: 0.0050 - val_loss: 3.1000e-05\n",
            "Epoch 2/25\n",
            "2132/2734 [======================>.......] - ETA: 4s - loss: 2.8411e-05"
          ]
        }
      ]
    },
    {
      "cell_type": "code",
      "source": [
        "#actual output vs predicted output plot\n",
        "plt.title('Multi-Layer LSTM')\n",
        "plt.scatter(actual_test,pred_test)\n",
        "plt.xlabel('Actual Output')\n",
        "plt.ylabel('Predicted Output')\n",
        "plt.legend(['Weather Data'])"
      ],
      "metadata": {
        "id": "RzVVVJvecKu8"
      },
      "execution_count": null,
      "outputs": []
    },
    {
      "cell_type": "code",
      "source": [
        "# performance metric (RMSE,MSE,MAE) vs time sequence plot\n",
        "time=[1,5,10]\n",
        "mse=[1.5645494926336845e-05,1.0909691167101974e-05,1.0951009527245045e-05]\n",
        "rmse=[0.003955438651570373,0.0033029821626981235,0.0033092309570722086]\n",
        "mae=[0.002619818718823403,0.0021321340959928174,0.0021496003647497246]\n",
        "plt.title('Multi-Layer LSTM')\n",
        "plt.plot(time,rmse,label='RMSE',color='b')\n",
        "plt.plot(time,mse,label='MSE',color='g')\n",
        "plt.plot(time,mae,label='MAE',color='r')\n",
        "plt.xlabel('time sequence')\n",
        "plt.ylabel('performance metric')\n",
        "plt.legend()"
      ],
      "metadata": {
        "colab": {
          "base_uri": "https://localhost:8080/",
          "height": 489
        },
        "id": "X2oY7n-6ekUn",
        "outputId": "d34c5ad4-fff7-4e55-a04c-3a141d0a5bfb"
      },
      "execution_count": null,
      "outputs": [
        {
          "output_type": "execute_result",
          "data": {
            "text/plain": [
              "<matplotlib.legend.Legend at 0x7d1bcfd4a1a0>"
            ]
          },
          "metadata": {},
          "execution_count": 11
        },
        {
          "output_type": "display_data",
          "data": {
            "text/plain": [
              "<Figure size 640x480 with 1 Axes>"
            ],
            "image/png": "[encoded data removed]"
          },
          "metadata": {}
        }
      ]
    },
    {
      "cell_type": "code",
      "source": [],
      "metadata": {
        "id": "vrsAfKOVhA53"
      },
      "execution_count": null,
      "outputs": []
    }
  ]
}